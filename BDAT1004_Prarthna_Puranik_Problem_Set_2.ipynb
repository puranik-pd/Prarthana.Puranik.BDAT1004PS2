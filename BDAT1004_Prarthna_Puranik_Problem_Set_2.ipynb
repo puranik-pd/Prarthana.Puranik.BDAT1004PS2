{
 "cells": [
  {
   "cell_type": "markdown",
   "id": "c900f223",
   "metadata": {},
   "source": [
    "### Question 1"
   ]
  },
  {
   "cell_type": "code",
   "execution_count": 19,
   "id": "18ab74b6",
   "metadata": {},
   "outputs": [],
   "source": [
    "a = 0\n",
    "\n",
    "def b():\n",
    "    global a\n",
    "    a = c(a)\n",
    "    \n",
    "def c(a):\n",
    "    return a+2\n"
   ]
  },
  {
   "cell_type": "code",
   "execution_count": 20,
   "id": "ff783e78",
   "metadata": {},
   "outputs": [
    {
     "data": {
      "text/plain": [
       "6"
      ]
     },
     "execution_count": 20,
     "metadata": {},
     "output_type": "execute_result"
    }
   ],
   "source": [
    "b()\n",
    "b()\n",
    "b()\n",
    "a"
   ]
  },
  {
   "cell_type": "markdown",
   "id": "18d3df47",
   "metadata": {},
   "source": [
    "# Program Flow\n",
    "\n",
    "initally the variable a is define as 0.\n",
    "Global a = 0\n",
    "\n",
    "\n",
    "##### Step 1: You can see that  when function b () is first called, it passes a global value to function c and returns a new value with a = 2 (0 + 2).\n",
    "##### Step 2: When the b () function is called a second time, we see that the global value of a is passed to the function c and  a new value of a = 4 (2 + 2) is returned.\n",
    "##### Step 3: If function b () is called three times, we see that  the global value of a in function c is passed and  a new value of a = 6 (4 + 2) is returned.\n",
    "\n",
    "### Therefore, the last value of the global variable a is 6.\n"
   ]
  },
  {
   "cell_type": "markdown",
   "id": "4d17fed1",
   "metadata": {},
   "source": []
  },
  {
   "cell_type": "markdown",
   "id": "6db78121",
   "metadata": {},
   "source": [
    "### Question 2"
   ]
  },
  {
   "cell_type": "code",
   "execution_count": 21,
   "id": "31fcf07f",
   "metadata": {},
   "outputs": [],
   "source": [
    "def fileLength(fileName):\n",
    "    try:    \n",
    "        fileLen = -1\n",
    "        f = open (fileName)\n",
    "        f = f.read();\n",
    "        fileLen = len(f)\n",
    "        print(fileLen)\n",
    "    except (FileNotFoundError):\n",
    "        print(\"File \"+fileName+ \" not found\")\n",
    "    except:\n",
    "        print(\"Something Wrong!!\")"
   ]
  },
  {
   "cell_type": "code",
   "execution_count": 22,
   "id": "b173471c",
   "metadata": {},
   "outputs": [
    {
     "name": "stdout",
     "output_type": "stream",
     "text": [
      "Please Enter File Name to Get the Length: w3c.txt\n",
      "396\n",
      "\n",
      "\n",
      "Please Enter File Name to Get the Lengthw4c.txt\n",
      "File w4c.txt not found\n"
     ]
    }
   ],
   "source": [
    "fileName = input(\"Please Enter File Name to Get the Length: \")\n",
    "fileLength(fileName)\n",
    "\n",
    "fileName = input(\"\\n\\nPlease Enter File Name to Get the Length\")\n",
    "fileLength(fileName)\n"
   ]
  },
  {
   "cell_type": "markdown",
   "id": "5d90637c",
   "metadata": {},
   "source": [
    "### Question 3"
   ]
  },
  {
   "cell_type": "code",
   "execution_count": 23,
   "id": "e0f1be7e",
   "metadata": {},
   "outputs": [],
   "source": [
    "class Marsupial:\n",
    "    def __init__(self):\n",
    "        self.marsuLst = []\n",
    "    \n",
    "    def put_in_pouch(self,pouch):\n",
    "        self.marsuLst.append(pouch)\n",
    "        \n",
    "    def pouch_contents(self):\n",
    "        return self.marsuLst\n",
    "\n",
    "class Kangaroo(Marsupial):\n",
    "    def __init__(self, dx, dy):\n",
    "        self.x = dx\n",
    "        self.y = dy\n",
    "        \n",
    "    def jump(self,dx,dy):\n",
    "        self.x +=dx\n",
    "        self.y +=dy\n",
    "        \n",
    "    def __str__(self):\n",
    "        return \"I am a Kangaroo located at coordinates ({0},{1})\".format(self.x,self.y)"
   ]
  },
  {
   "cell_type": "code",
   "execution_count": 24,
   "id": "3f542f05",
   "metadata": {},
   "outputs": [
    {
     "data": {
      "text/plain": [
       "['doll', 'firetruck', 'kitten']"
      ]
     },
     "execution_count": 24,
     "metadata": {},
     "output_type": "execute_result"
    }
   ],
   "source": [
    "m = Marsupial()\n",
    "m.put_in_pouch('doll')\n",
    "m.put_in_pouch('firetruck')\n",
    "m.put_in_pouch('kitten')\n",
    "m.pouch_contents()"
   ]
  },
  {
   "cell_type": "code",
   "execution_count": 25,
   "id": "a30f5eca",
   "metadata": {},
   "outputs": [
    {
     "name": "stdout",
     "output_type": "stream",
     "text": [
      "I am a Kangaroo located at coordinates (5,6)\n"
     ]
    }
   ],
   "source": [
    "k = Kangaroo(0,0)\n",
    "k.jump(3,4)\n",
    "k.jump(2,2)\n",
    "print(k)"
   ]
  },
  {
   "cell_type": "markdown",
   "id": "9120f170",
   "metadata": {},
   "source": [
    "### Question 4"
   ]
  },
  {
   "cell_type": "code",
   "execution_count": 26,
   "id": "9ceb7a8a",
   "metadata": {},
   "outputs": [],
   "source": [
    "def collatz(num):\n",
    "    if(num==1):\n",
    "        print(num)\n",
    "    else:\n",
    "        \n",
    "        if(num % 2==0):\n",
    "            print(num)\n",
    "            num = num//2\n",
    "        else:\n",
    "            print(num)\n",
    "            num = (3*num)+1\n",
    "        collatz(num)"
   ]
  },
  {
   "cell_type": "code",
   "execution_count": 27,
   "id": "ec00b615",
   "metadata": {},
   "outputs": [
    {
     "name": "stdout",
     "output_type": "stream",
     "text": [
      "Enter any Positive value :10\n",
      "10\n",
      "5\n",
      "16\n",
      "8\n",
      "4\n",
      "2\n",
      "1\n"
     ]
    }
   ],
   "source": [
    "digit = int(input(\"Enter any Positive value :\"))\n",
    "if(digit >0):\n",
    "    collatz(digit)\n",
    "else:\n",
    "    print(\"Value is Not Acceptable!!! Try again!!\")"
   ]
  },
  {
   "cell_type": "markdown",
   "id": "c55b40da",
   "metadata": {},
   "source": [
    "### Question 5"
   ]
  },
  {
   "cell_type": "code",
   "execution_count": 28,
   "id": "30bc4279",
   "metadata": {},
   "outputs": [],
   "source": [
    "def binary(decimalNum):\n",
    "   if decimalNum > 1:\n",
    "       binary(decimalNum//2)\n",
    "        \n",
    "   reminder = decimalNum % 2 \n",
    "   print(reminder,end = '')\n",
    "\n"
   ]
  },
  {
   "cell_type": "code",
   "execution_count": 29,
   "id": "e28e4457",
   "metadata": {},
   "outputs": [
    {
     "name": "stdout",
     "output_type": "stream",
     "text": [
      "Enter Any Positive Decimal Number to Get the Binary Value:3\n",
      "11"
     ]
    }
   ],
   "source": [
    "inputNumber = int(input(\"Enter Any Positive Decimal Number to Get the Binary Value:\"))\n",
    "binary(inputNumber)"
   ]
  },
  {
   "cell_type": "code",
   "execution_count": 30,
   "id": "891eeec4",
   "metadata": {},
   "outputs": [
    {
     "name": "stdout",
     "output_type": "stream",
     "text": [
      "Enter Any Positive Decimal Number to Get the Binary Value:9\n",
      "1001"
     ]
    }
   ],
   "source": [
    "inputNumber = int(input(\"Enter Any Positive Decimal Number to Get the Binary Value:\"))\n",
    "binary(inputNumber)"
   ]
  },
  {
   "cell_type": "markdown",
   "id": "c718a37e",
   "metadata": {},
   "source": [
    "### Question 6"
   ]
  },
  {
   "cell_type": "code",
   "execution_count": 31,
   "id": "6a374d43",
   "metadata": {},
   "outputs": [
    {
     "name": "stdout",
     "output_type": "stream",
     "text": [
      "W3C Mission\n",
      "    Principles\n"
     ]
    }
   ],
   "source": [
    "from html.parser import HTMLParser\n",
    "\n",
    "class HeadingParser(HTMLParser):\n",
    "    h1=h2=h3=h4=h5=h6 = False\n",
    "    \n",
    "    def handle_starttag(self, tag, attrs):\n",
    "        if tag == 'h1':\n",
    "            self.h1 = True\n",
    "        if tag == 'h2':\n",
    "            self.h2 = True\n",
    "        if tag == 'h3':\n",
    "            self.h3 = True\n",
    "        if tag == 'h4':\n",
    "            self.h4 = True\n",
    "        if tag == 'h5':\n",
    "            self.h5 = True\n",
    "        if tag == 'h6':\n",
    "            self.h6 = True\n",
    "            \n",
    "\n",
    "    def handle_endtag(self, tag):\n",
    "        if tag == 'h1':\n",
    "            self.h1 = False\n",
    "        if tag == 'h2':\n",
    "            self.h2 = False\n",
    "        if tag == 'h3':\n",
    "            self.h3 = False\n",
    "        if tag == 'h4':\n",
    "            self.h4 = False\n",
    "        if tag == 'h5':\n",
    "            self.h5 = False\n",
    "        if tag == 'h6':\n",
    "            self.h6 = False\n",
    "            \n",
    "\n",
    "    def handle_data(self, data):\n",
    "        if self.h1:\n",
    "            print(data)\n",
    "        elif self.h2:\n",
    "            print(\"    {}\".format(data))\n",
    "        elif self.h3:\n",
    "            print(\"        {}\".format(data))\n",
    "        elif self.h4:\n",
    "            print(\"            {}\".format(data))\n",
    "        elif self.h5:\n",
    "            print(\"                {}\".format(data))\n",
    "        elif self.h6:\n",
    "            print(\"                    {}\".format(data))\n",
    "        \n",
    "infile = open('w3c.html')\n",
    "fcontent = infile.read()\n",
    "infile.close()\n",
    "parser = HeadingParser()\n",
    "\n",
    "parser.feed(fcontent)"
   ]
  },
  {
   "cell_type": "markdown",
   "id": "5f90147d",
   "metadata": {},
   "source": [
    "### Question 7"
   ]
  },
  {
   "cell_type": "code",
   "execution_count": 32,
   "id": "6ddad5ad",
   "metadata": {},
   "outputs": [],
   "source": [
    "from urllib.parse import urljoin\n",
    "from html.parser import HTMLParser\n",
    "from urllib.request import urlopen\n",
    "class Collector(HTMLParser):\n",
    "    'collects hyperlink URLs into a list'\n",
    "\n",
    "    def __init__(self, url):\n",
    "        'initializes parser, the url, and a list'\n",
    "        HTMLParser.__init__(self)\n",
    "        self.url = url\n",
    "        self.links = []\n",
    "\n",
    "    \n",
    "    def handle_starttag(self, tag, attrs):\n",
    "        'collects hyperlink URLs in their absolute format'\n",
    "        if tag == 'a':\n",
    "            for attr in attrs:\n",
    "                if attr[0] == 'href':\n",
    "                    # construct absolute URL\n",
    "                    absolute = urljoin(self.url, attr[1])\n",
    "                    if absolute[:4] == 'http': # collect HTTP URLs\n",
    "                        self.links.append(absolute)\n",
    "                        \n",
    "    def getLinks(self):\n",
    "        'returns hyperlinks URLs in their absolute format'\n",
    "        return self.links\n",
    "\n",
    "\n",
    "def webdir(url,depth,indent):\n",
    "    if(depth<0):\n",
    "        return\n",
    "    print(\"\\t\"*indent +url)\n",
    "    resource = urlopen(url)\n",
    "    content = resource.read().decode()\n",
    "    collector = Collector(url)\n",
    "    collector.feed(content)\n",
    "    findUrlLst = collector.getLinks()\n",
    "    \n",
    "    for visiturl in findUrlLst:\n",
    "        webdir(visiturl,depth-1,indent+1)\n"
   ]
  },
  {
   "cell_type": "code",
   "execution_count": 33,
   "id": "9c728b21",
   "metadata": {},
   "outputs": [
    {
     "name": "stdout",
     "output_type": "stream",
     "text": [
      "https://reed.cs.depaul.edu/lperkovic/test1.html\n",
      "\thttp://reed.cs.depaul.edu/lperkovic/test2.html\n",
      "\t\thttp://reed.cs.depaul.edu/lperkovic/test4.html\n",
      "\thttps://reed.cs.depaul.edu/lperkovic/test3.html\n",
      "\t\thttps://reed.cs.depaul.edu/lperkovic/test4.html\n"
     ]
    }
   ],
   "source": [
    "webdir(\"https://reed.cs.depaul.edu/lperkovic/test1.html\",2,0)"
   ]
  },
  {
   "cell_type": "markdown",
   "id": "75680f5d",
   "metadata": {},
   "source": [
    "### Question 8"
   ]
  },
  {
   "cell_type": "markdown",
   "id": "a3bc3143",
   "metadata": {},
   "source": [
    "###### Let's assume that the table name is weather\n",
    "a) All the temperature data. </br>\n",
    "\n",
    "=>SELECT Temperature From weather;\n",
    "    \n",
    "b) All the cities, but without repetition.</br>\n",
    "\n",
    "=>SELECT DISTINCT city FROM weather;  \n",
    "\n",
    "c) All the records for India.</br>\n",
    "\n",
    "=>SELECT * FROM weather WHERE Country = India ;\n",
    "\n",
    "d) All the Fall records.</br>\n",
    "\n",
    "=>SELECT * FROM weather WHERE Season = Fall ;\n",
    "\n",
    "e) The city, country, and season for which the average weatherfall is between 200\n",
    "and 400 millimeters.</br>\n",
    "\n",
    "=>SELECT city, country, season FROM weather WHERE weatherfall>200 and weatherfall<400;\n",
    "\n",
    "f) The city and country for which the average Fall temperature is above 20\n",
    "degrees, in increasing temperature order.</br>\n",
    "\n",
    "=>SELECT city, country FROM weather WHERE Temperature > 20 ORDER BY Temperature ASC;   \n",
    "\n",
    "g) The total annual weatherfall for Cairo.</br>\n",
    "\n",
    "=>SELECT SUM(weatherfall) FROM weather WHERE City = Cairo;\n",
    "\n",
    "h) The total weatherfall for each season.</br>\n",
    "\n",
    "=>SELECT SUM(weatherfall) FROM weather GROUP BY Season;\n",
    "    "
   ]
  },
  {
   "cell_type": "code",
   "execution_count": 34,
   "id": "18de83ad",
   "metadata": {
    "scrolled": true
   },
   "outputs": [],
   "source": [
    "import sqlite3\n",
    "file = \"prarthana.db\"\n",
    "con = sqlite3.connect(file)\n",
    "\n",
    "sq_cur = con.cursor()\n",
    "sq_cur.execute(\"CREATE TABLE Weather_p (city text, country text, season text, temperature double, rainfall double)\")\n",
    "\n",
    "\n",
    "sq_cur.execute(\"INSERT INTO Weather_p VALUES ('Mumbai','India','Winter',24.8,5.9)\")\n",
    "sq_cur.execute(\"INSERT INTO Weather_p VALUES ('Mumbai','India','Spring',28.4,16.2)\")\n",
    "sq_cur.execute(\"INSERT INTO Weather_p VALUES ('Mumbai','India','Summer',27.9,1549.4)\")\n",
    "sq_cur.execute(\"INSERT INTO Weather_p VALUES ('Mumbai','India','Fall', 27.6,346.0)\")\n",
    "sq_cur.execute(\"INSERT INTO Weather_p VALUES ('London','United Kingdom','Winter',4.2,207.7)\")\n",
    "sq_cur.execute(\"INSERT INTO Weather_p VALUES ('London','United Kingdom','Spring',8.3,169.6)\")\n",
    "sq_cur.execute(\"INSERT INTO Weather_p VALUES ('London','United Kingdom', 'Summer',15.7,157.0)\")\n",
    "sq_cur.execute(\"INSERT INTO Weather_p VALUES ('London','United Kingdom','Fall',10.4,218.5)\")\n",
    "sq_cur.execute(\"INSERT INTO Weather_p VALUES ('Cairo', 'Egypt', 'Fall', 22.2,4.5)\")\n",
    "sq_cur.execute(\"INSERT INTO Weather_p VALUES ('Cairo', 'Egypt', 'Winter', 13.6,16.5)\")\n",
    "sq_cur.execute(\"INSERT INTO Weather_p VALUES ('Cairo', 'Egypt', 'Spring', 20.5,6.5)\")\n",
    "sq_cur.execute(\"INSERT INTO Weather_p VALUES ('Cairo', 'Egypt', 'Summer', 27.7,0.1)\")\n",
    "con.commit()"
   ]
  },
  {
   "cell_type": "code",
   "execution_count": 35,
   "id": "fae4d091",
   "metadata": {},
   "outputs": [],
   "source": [
    "#sq_cur.execute(\"DROP TABLE Weather_p\")"
   ]
  },
  {
   "cell_type": "markdown",
   "id": "971708b1",
   "metadata": {},
   "source": [
    "Q8a"
   ]
  },
  {
   "cell_type": "code",
   "execution_count": 36,
   "id": "8f2680cc",
   "metadata": {},
   "outputs": [
    {
     "name": "stdout",
     "output_type": "stream",
     "text": [
      "('Mumbai', 'India', 'Winter', 24.8, 5.9)\n",
      "('Mumbai', 'India', 'Spring', 28.4, 16.2)\n",
      "('Mumbai', 'India', 'Summer', 27.9, 1549.4)\n",
      "('Mumbai', 'India', 'Fall', 27.6, 346.0)\n",
      "('London', 'United Kingdom', 'Winter', 4.2, 207.7)\n",
      "('London', 'United Kingdom', 'Spring', 8.3, 169.6)\n",
      "('London', 'United Kingdom', 'Summer', 15.7, 157.0)\n",
      "('London', 'United Kingdom', 'Fall', 10.4, 218.5)\n",
      "('Cairo', 'Egypt', 'Fall', 22.2, 4.5)\n",
      "('Cairo', 'Egypt', 'Winter', 13.6, 16.5)\n",
      "('Cairo', 'Egypt', 'Spring', 20.5, 6.5)\n",
      "('Cairo', 'Egypt', 'Summer', 27.7, 0.1)\n"
     ]
    }
   ],
   "source": [
    "sq_cur.execute(\"SELECT * from Weather_p\")\n",
    "for i in sq_cur:\n",
    "    print(i)"
   ]
  },
  {
   "cell_type": "markdown",
   "id": "f7e4d340",
   "metadata": {},
   "source": [
    "Q8b"
   ]
  },
  {
   "cell_type": "code",
   "execution_count": 37,
   "id": "083dba59",
   "metadata": {},
   "outputs": [
    {
     "name": "stdout",
     "output_type": "stream",
     "text": [
      "('Mumbai',)\n",
      "('London',)\n",
      "('Cairo',)\n"
     ]
    }
   ],
   "source": [
    "sq_cur.execute(\"SELECT DISTINCT city FROM Weather_p\")\n",
    "\n",
    "for i in sq_cur:\n",
    "    print(i)"
   ]
  },
  {
   "cell_type": "markdown",
   "id": "b8894961",
   "metadata": {},
   "source": [
    "Q8c"
   ]
  },
  {
   "cell_type": "code",
   "execution_count": 38,
   "id": "929d10ce",
   "metadata": {},
   "outputs": [
    {
     "name": "stdout",
     "output_type": "stream",
     "text": [
      "('Mumbai', 'India', 'Winter', 24.8, 5.9)\n",
      "('Mumbai', 'India', 'Spring', 28.4, 16.2)\n",
      "('Mumbai', 'India', 'Summer', 27.9, 1549.4)\n",
      "('Mumbai', 'India', 'Fall', 27.6, 346.0)\n"
     ]
    }
   ],
   "source": [
    "sq_cur.execute(\"SELECT * FROM Weather_p WHERE Country = 'India'\")\n",
    "\n",
    "for i in sq_cur:\n",
    "    print(i)"
   ]
  },
  {
   "cell_type": "markdown",
   "id": "40d78204",
   "metadata": {},
   "source": [
    "Q8d"
   ]
  },
  {
   "cell_type": "code",
   "execution_count": 39,
   "id": "c0600711",
   "metadata": {},
   "outputs": [
    {
     "name": "stdout",
     "output_type": "stream",
     "text": [
      "('Mumbai', 'India', 'Fall', 27.6, 346.0)\n",
      "('London', 'United Kingdom', 'Fall', 10.4, 218.5)\n",
      "('Cairo', 'Egypt', 'Fall', 22.2, 4.5)\n"
     ]
    }
   ],
   "source": [
    "sq_cur.execute(\"SELECT * FROM Weather_p WHERE Season = 'Fall'\")\n",
    "\n",
    "for i in sq_cur:\n",
    "    print(i)"
   ]
  },
  {
   "cell_type": "markdown",
   "id": "90bee289",
   "metadata": {},
   "source": [
    "Q8e"
   ]
  },
  {
   "cell_type": "code",
   "execution_count": 41,
   "id": "9706cf94",
   "metadata": {},
   "outputs": [
    {
     "name": "stdout",
     "output_type": "stream",
     "text": [
      "('London', 'United Kingdom', 'Fall')\n",
      "('London', 'United Kingdom', 'Winter')\n",
      "('Mumbai', 'India', 'Fall')\n"
     ]
    }
   ],
   "source": [
    "sq_cur.execute(\"SELECT city, country, season FROM Weather_p group by city, country, season having AVG(rainfall) BETWEEN 200 AND 400\")\n",
    "\n",
    "for i in sq_cur:\n",
    "    print(i)"
   ]
  },
  {
   "cell_type": "markdown",
   "id": "9adfcdf7",
   "metadata": {},
   "source": [
    "Q8f"
   ]
  },
  {
   "cell_type": "code",
   "execution_count": 43,
   "id": "cf564bd9",
   "metadata": {},
   "outputs": [
    {
     "name": "stdout",
     "output_type": "stream",
     "text": [
      "('Cairo', 'Egypt')\n",
      "('Mumbai', 'India')\n"
     ]
    }
   ],
   "source": [
    "sq_cur.execute(\"SELECT city, country FROM Weather_p group by city, country having AVG(Temperature) > 20 ORDER BY Temperature ASC \")\n",
    "\n",
    "for i in sq_cur:\n",
    "    print(i)"
   ]
  },
  {
   "cell_type": "markdown",
   "id": "828b937b",
   "metadata": {},
   "source": [
    "Q8g"
   ]
  },
  {
   "cell_type": "code",
   "execution_count": 44,
   "id": "d4759205",
   "metadata": {},
   "outputs": [
    {
     "name": "stdout",
     "output_type": "stream",
     "text": [
      "(27.6,)\n"
     ]
    }
   ],
   "source": [
    "sq_cur.execute(\"SELECT SUM(Rainfall) FROM Weather_p WHERE City = 'Cairo'\")\n",
    "\n",
    "for i in sq_cur:\n",
    "    print(i)"
   ]
  },
  {
   "cell_type": "markdown",
   "id": "72937229",
   "metadata": {},
   "source": [
    "Q8h"
   ]
  },
  {
   "cell_type": "code",
   "execution_count": 45,
   "id": "45c0ade5",
   "metadata": {},
   "outputs": [
    {
     "name": "stdout",
     "output_type": "stream",
     "text": [
      "(569.0,)\n",
      "(192.29999999999998,)\n",
      "(1706.5,)\n",
      "(230.1,)\n"
     ]
    }
   ],
   "source": [
    "sq_cur.execute(\"SELECT SUM(Rainfall) FROM Weather_p GROUP BY Season\")\n",
    "\n",
    "for i in sq_cur:\n",
    "    print(i)"
   ]
  },
  {
   "cell_type": "markdown",
   "id": "c2763d94",
   "metadata": {},
   "source": [
    "### Question 9"
   ]
  },
  {
   "cell_type": "code",
   "execution_count": 46,
   "id": "546c2b0c",
   "metadata": {},
   "outputs": [],
   "source": [
    "words = ['The', 'quick', 'brown', 'fox', 'jumps', 'over', 'the', 'lazy', 'dog']"
   ]
  },
  {
   "cell_type": "markdown",
   "id": "a7f4ebf0",
   "metadata": {},
   "source": [
    "Q9 A ['THE', 'QUICK', 'BROWN', 'FOX', 'JUMPS', 'OVER', 'THE', 'LAZY', 'DOG']"
   ]
  },
  {
   "cell_type": "code",
   "execution_count": 47,
   "id": "7041fd83",
   "metadata": {},
   "outputs": [
    {
     "name": "stdout",
     "output_type": "stream",
     "text": [
      "['THE', 'QUICK', 'BROWN', 'FOX', 'JUMPS', 'OVER', 'THE', 'LAZY', 'DOG']\n"
     ]
    }
   ],
   "source": [
    "upperCaseWords = []\n",
    "\n",
    "for word in words:\n",
    "    upperCaseWords.append(word.upper())\n",
    "\n",
    "print(upperCaseWords)"
   ]
  },
  {
   "cell_type": "markdown",
   "id": "2df76659",
   "metadata": {},
   "source": [
    "Q9 B ['the', 'quick', 'brown', 'fox', 'jumps', 'over', 'the', 'lazy', 'dog']"
   ]
  },
  {
   "cell_type": "code",
   "execution_count": 48,
   "id": "445ded36",
   "metadata": {},
   "outputs": [
    {
     "name": "stdout",
     "output_type": "stream",
     "text": [
      "['the', 'quick', 'brown', 'fox', 'jumps', 'over', 'the', 'lazy', 'dog']\n"
     ]
    }
   ],
   "source": [
    "lowerCaseWords = []\n",
    "\n",
    "for word in words:\n",
    "    lowerCaseWords.append(word.lower())\n",
    "\n",
    "print(lowerCaseWords)"
   ]
  },
  {
   "cell_type": "markdown",
   "id": "acbd9862",
   "metadata": {},
   "source": [
    "Q9 C[3, 5, 5, 3, 5, 4, 3, 4, 3] (the list of lengths of words in list words)."
   ]
  },
  {
   "cell_type": "code",
   "execution_count": 49,
   "id": "5e10d311",
   "metadata": {},
   "outputs": [
    {
     "name": "stdout",
     "output_type": "stream",
     "text": [
      "[3, 5, 5, 3, 5, 4, 3, 4, 3]\n"
     ]
    }
   ],
   "source": [
    "wordsWithLength = []\n",
    "\n",
    "for word in words:\n",
    "    wordsWithLength.append(len(word))\n",
    "\n",
    "print(wordsWithLength)"
   ]
  },
  {
   "cell_type": "markdown",
   "id": "18a5ca9d",
   "metadata": {},
   "source": [
    "Q9 D <br> <br> [['THE', 'the', 3], ['QUICK', 'quick', 5], ['BROWN', 'brown', 5], ['FOX', 'fox', 3], ['JUMPS', 'jumps', 5], ['OVER', 'over', 4], ['THE', 'the', 3], ['LAZY', 'lazy', 4], ['DOG', 'dog', 3]] <br><br>(the list containing a list for every word of list words, where each list contains the word in uppercase and lowercase and the length of the word.)"
   ]
  },
  {
   "cell_type": "code",
   "execution_count": 50,
   "id": "d28cbd55",
   "metadata": {},
   "outputs": [
    {
     "name": "stdout",
     "output_type": "stream",
     "text": [
      "[['THE', 'the', 3], ['QUICK', 'quick', 5], ['BROWN', 'brown', 5], ['FOX', 'fox', 3], ['JUMPS', 'jumps', 5], ['OVER', 'over', 4], ['THE', 'the', 3], ['LAZY', 'lazy', 4], ['DOG', 'dog', 3]]\n"
     ]
    }
   ],
   "source": [
    "combineWords = []\n",
    "\n",
    "for word in words:\n",
    "    concatewd = [word.upper(),word.lower(),len(word)]\n",
    "    combineWords.append(concatewd) # adding whole list in list\n",
    "    \n",
    "\n",
    "print(combineWords)"
   ]
  },
  {
   "cell_type": "markdown",
   "id": "9c46191c",
   "metadata": {},
   "source": [
    "Q9 E <br><br>['The', 'quick', 'brown', 'fox', 'jumps', 'over', 'the', 'lazy', 'dog'] <br><br>(the list of words in list words containing 4 or more characters.)"
   ]
  },
  {
   "cell_type": "code",
   "execution_count": 51,
   "id": "dfccb1fd",
   "metadata": {},
   "outputs": [
    {
     "name": "stdout",
     "output_type": "stream",
     "text": [
      "['quick', 'brown', 'jumps', 'over', 'lazy']\n"
     ]
    }
   ],
   "source": [
    "wordsWithlength_4 =[]\n",
    "for w,w1 in zip(combineWords,words):\n",
    "    if(w[2]>=4):\n",
    "        wordsWithlength_4.append(w1)\n",
    "print(wordsWithlength_4)"
   ]
  },
  {
   "cell_type": "code",
   "execution_count": null,
   "id": "891f3ed6",
   "metadata": {},
   "outputs": [],
   "source": []
  }
 ],
 "metadata": {
  "kernelspec": {
   "display_name": "Python 3",
   "language": "python",
   "name": "python3"
  },
  "language_info": {
   "codemirror_mode": {
    "name": "ipython",
    "version": 3
   },
   "file_extension": ".py",
   "mimetype": "text/x-python",
   "name": "python",
   "nbconvert_exporter": "python",
   "pygments_lexer": "ipython3",
   "version": "3.8.8"
  }
 },
 "nbformat": 4,
 "nbformat_minor": 5
}
